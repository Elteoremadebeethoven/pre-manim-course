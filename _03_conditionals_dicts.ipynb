{
 "cells": [
  {
   "cell_type": "code",
   "execution_count": null,
   "id": "944e1d28",
   "metadata": {},
   "outputs": [],
   "source": [
    "from manim import *\n",
    "config.media_embed = True\n",
    "config.media_width = \"100%\"\n",
    "_RIm = \"-r1440,230 -v WARNING -s --progress_bar None --disable_caching Example\""
   ]
  },
  {
   "cell_type": "code",
   "execution_count": null,
   "id": "2c27d255",
   "metadata": {},
   "outputs": [],
   "source": [
    "class Example(Scene):\n",
    "  def construct(self):\n",
    "    r = RegularPolygon(10)\n",
    "    self.add(r)\n",
    "%manim $_RIm"
   ]
  },
  {
   "cell_type": "markdown",
   "id": "1268628b",
   "metadata": {},
   "source": [
    "if $x > y$ then $\\frac{x}{y} = \\left \\lfloor \\frac{x}{y} \\right \\rfloor + \\frac{x \\% y}{y}$\n",
    "\n",
    "$\\left \\lfloor \\frac{x}{y} \\right \\rfloor$ It is the integer closest to the lower integer $\\frac{x}{y}$\n",
    "\n",
    "Example: $\\left\\lfloor 10.1 \\right\\rfloor=\\left\\lfloor 10.5 \\right\\rfloor=\\left\\lfloor 10.999 \\right\\rfloor = 10$"
   ]
  },
  {
   "cell_type": "code",
   "execution_count": null,
   "id": "4ee5f871",
   "metadata": {},
   "outputs": [],
   "source": [
    "x = 10\n",
    "y = 4\n",
    "\n",
    "print(f\"{x / y} = {int(x / y)} + {(x % y) / y}\")\n",
    "print(f\"{x / y} = {int(x / y)} + {(x % y)} / {y}\")\n",
    "print(f\"{x%y=}\")\n",
    "# %: modulo operator"
   ]
  },
  {
   "cell_type": "code",
   "execution_count": null,
   "id": "fedc3efc",
   "metadata": {},
   "outputs": [],
   "source": [
    "class Example(Scene):\n",
    "  def construct(self):\n",
    "    grp = VGroup()\n",
    "    for i in range(3,10): # 3,4,5,...,9\n",
    "      if i % 2 == 1: # odd numbers: 3,5,7,9\n",
    "        grp.add( RegularPolygon(i) )\n",
    "    grp.arrange(RIGHT)\n",
    "    self.add(grp)\n",
    "%manim $_RIm"
   ]
  },
  {
   "cell_type": "code",
   "execution_count": null,
   "id": "c2c0377d",
   "metadata": {},
   "outputs": [],
   "source": [
    "class Example(Scene):\n",
    "  def construct(self):\n",
    "    grp = VGroup()\n",
    "    for i in range(3,10):\n",
    "      if i % 2 == 0: # if even, add polygon\n",
    "        grp.add( RegularPolygon(i) )\n",
    "      else: # if odd, add number\n",
    "        grp.add( Tex(f\"{i}\") )\n",
    "    grp.arrange(RIGHT)\n",
    "    self.add(grp)\n",
    "%manim $_RIm"
   ]
  },
  {
   "cell_type": "code",
   "execution_count": null,
   "id": "e23f699d",
   "metadata": {},
   "outputs": [],
   "source": [
    "class Example(Scene):\n",
    "  def construct(self):\n",
    "    grp = VGroup()\n",
    "    for i in range(21):\n",
    "      t = Tex(f\"{i}\")\n",
    "      if i % 2 == 0: # case 1\n",
    "        grp.add( t.set_color(RED) )\n",
    "      elif i % 3 == 0: # case 2\n",
    "        grp.add( t.set_color(BLUE) )\n",
    "      elif i % 5 == 0: # case 3\n",
    "        grp.add( t.set_color(GREEN) )\n",
    "      else: # default case\n",
    "        grp.add( t.set_color(YELLOW) )\n",
    "    grp.arrange(RIGHT)\n",
    "    self.add(grp)\n",
    "%manim $_RIm"
   ]
  },
  {
   "cell_type": "code",
   "execution_count": null,
   "id": "d2f721d1",
   "metadata": {},
   "outputs": [],
   "source": [
    "class Example(Scene):\n",
    "  def construct(self):\n",
    "    grp = VGroup()\n",
    "    for i in range(21):\n",
    "      t = Tex(f\"{i}\")\n",
    "      if i % 2 == 0: # case 1\n",
    "        grp.add( t.set_color(RED) )\n",
    "      if i % 3 == 0: # case 2\n",
    "        grp.add( t.set_color(BLUE) )\n",
    "      if i % 5 == 0: # case 3\n",
    "        grp.add( t.set_color(GREEN) )\n",
    "    grp.arrange(RIGHT)\n",
    "    self.add(grp)\n",
    "%manim $_RIm"
   ]
  },
  {
   "cell_type": "code",
   "execution_count": null,
   "id": "13264be1",
   "metadata": {},
   "outputs": [],
   "source": [
    "class Example(Scene):\n",
    "  def construct(self):\n",
    "    grp = VGroup()\n",
    "    for i in range(21):\n",
    "      t = Tex(f\"{i}\")\n",
    "      if i > 10:\n",
    "        grp.add( t )\n",
    "    grp.arrange(RIGHT)\n",
    "    self.add(grp)\n",
    "%manim $_RIm"
   ]
  },
  {
   "cell_type": "code",
   "execution_count": null,
   "id": "d447977b",
   "metadata": {},
   "outputs": [],
   "source": [
    "class Example(Scene):\n",
    "  def construct(self):\n",
    "    grp = VGroup()\n",
    "    for i in range(21):\n",
    "      t = Tex(f\"{i}\")\n",
    "      if 3 <= i < 15 :\n",
    "        grp.add( t )\n",
    "    grp.arrange(RIGHT)\n",
    "    self.add(grp)\n",
    "%manim $_RIm"
   ]
  },
  {
   "cell_type": "code",
   "execution_count": null,
   "id": "0d4f1502",
   "metadata": {},
   "outputs": [],
   "source": [
    "class Example(Scene):\n",
    "  def construct(self):\n",
    "    grp = VGroup()\n",
    "    for i in range(21):\n",
    "      t = Tex(f\"{i}\")\n",
    "      if (3 <= i) and (i < 15) :\n",
    "        grp.add( t )\n",
    "    grp.arrange(RIGHT)\n",
    "    self.add(grp)\n",
    "%manim $_RIm"
   ]
  },
  {
   "cell_type": "code",
   "execution_count": null,
   "id": "9ea0beee",
   "metadata": {},
   "outputs": [],
   "source": [
    "class Example(Scene):\n",
    "  def construct(self):\n",
    "    grp = VGroup()\n",
    "    for i in range(21):\n",
    "      t = Tex(f\"{i}\")\n",
    "      if 3 <= i < 10 or i > 15:\n",
    "        grp.add( t )\n",
    "    grp.arrange(RIGHT)\n",
    "    self.add(grp)\n",
    "%manim $_RIm"
   ]
  },
  {
   "cell_type": "code",
   "execution_count": null,
   "id": "c44e9c88",
   "metadata": {},
   "outputs": [],
   "source": [
    "class Example(Scene):\n",
    "  def construct(self):\n",
    "    grp = VGroup()\n",
    "    for i in range(21):\n",
    "      t = Tex(f\"{i}\")\n",
    "      if i % 2 == 0 and i > 10:\n",
    "        grp.add( t )\n",
    "    grp.arrange(RIGHT)\n",
    "    self.add(grp)\n",
    "%manim $_RIm"
   ]
  },
  {
   "cell_type": "code",
   "execution_count": null,
   "id": "d0b51193",
   "metadata": {},
   "outputs": [],
   "source": [
    "class Example(Scene):\n",
    "  def construct(self):\n",
    "    grp = VGroup()\n",
    "    for i in range(21):\n",
    "      t = Tex(f\"{i}\")\n",
    "      if i % 2 == 0:\n",
    "        if i > 10:\n",
    "          t.set_color(RED)\n",
    "        grp.add( t )\n",
    "    grp.arrange(RIGHT)\n",
    "    self.add(grp)\n",
    "%manim $_RIm"
   ]
  },
  {
   "cell_type": "code",
   "execution_count": null,
   "id": "977c339a",
   "metadata": {},
   "outputs": [],
   "source": [
    "class Example(Scene):\n",
    "  def construct(self):\n",
    "    grp = VGroup()\n",
    "    for i in range(21):\n",
    "      t = Tex(f\"{i}\")\n",
    "      if i % 2 == 0 and i > 10:\n",
    "        t.set_color(RED)\n",
    "        grp.add( t )\n",
    "    grp.arrange(RIGHT)\n",
    "    self.add(grp)\n",
    "%manim $_RIm"
   ]
  },
  {
   "cell_type": "code",
   "execution_count": null,
   "id": "6869315e",
   "metadata": {},
   "outputs": [],
   "source": [
    "class Example(Scene):\n",
    "  def construct(self):\n",
    "    grp = VGroup()\n",
    "    for i in range(21):\n",
    "      t = Tex(f\"{i}\") if i % 2 == 0 else Dot() # ternary operator\n",
    "      # if i is even then t = Tex\n",
    "      # else (odd) t = Dot\n",
    "      grp.add(t)\n",
    "    grp.arrange(RIGHT)\n",
    "    self.add(grp)\n",
    "%manim $_RIm"
   ]
  },
  {
   "cell_type": "code",
   "execution_count": null,
   "id": "4dc6a5ec",
   "metadata": {},
   "outputs": [],
   "source": [
    "class Example(Scene):\n",
    "  def construct(self):\n",
    "    d = {\"triangle\": 3, \"square\": 4, \"pentagon\": 5, \"hexagon\": 6}\n",
    "    r = RegularPolygon(d[\"hexagon\"])\n",
    "    self.add(r)\n",
    "%manim $_RIm"
   ]
  },
  {
   "cell_type": "code",
   "execution_count": null,
   "id": "c512fee9",
   "metadata": {},
   "outputs": [],
   "source": [
    "d = {\"triangle\": 3, \"square\": 4, \"pentagon\": 5, \"hexagon\": 6}\n",
    "print(d.keys())"
   ]
  },
  {
   "cell_type": "code",
   "execution_count": null,
   "id": "7b1325b4",
   "metadata": {},
   "outputs": [],
   "source": [
    "print(d.values())"
   ]
  },
  {
   "cell_type": "code",
   "execution_count": null,
   "id": "06200823",
   "metadata": {},
   "outputs": [],
   "source": [
    "print(d.items())"
   ]
  },
  {
   "cell_type": "code",
   "execution_count": null,
   "id": "97f2859e",
   "metadata": {},
   "outputs": [],
   "source": []
  }
 ],
 "metadata": {
  "kernelspec": {
   "display_name": "mce19",
   "language": "python",
   "name": "python3"
  },
  "language_info": {
   "codemirror_mode": {
    "name": "ipython",
    "version": 3
   },
   "file_extension": ".py",
   "mimetype": "text/x-python",
   "name": "python",
   "nbconvert_exporter": "python",
   "pygments_lexer": "ipython3",
   "version": "3.12.9"
  }
 },
 "nbformat": 4,
 "nbformat_minor": 5
}
