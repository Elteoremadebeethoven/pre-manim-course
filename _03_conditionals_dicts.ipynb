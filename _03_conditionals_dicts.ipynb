{
 "cells": [
  {
   "cell_type": "code",
   "execution_count": null,
   "id": "944e1d28",
   "metadata": {},
   "outputs": [],
   "source": [
    "from manim import *\n",
    "config.media_embed = True\n",
    "config.media_width = \"100%\"\n",
    "_RIm = \"-r1440,230 -v WARNING -s --progress_bar None --disable_caching Example\""
   ]
  },
  {
   "cell_type": "code",
   "execution_count": null,
   "id": "2c27d255",
   "metadata": {},
   "outputs": [],
   "source": [
    "class Example(Scene):\n",
    "  def construct(self):\n",
    "    r = RegularPolygon(4)\n",
    "    self.add(r)\n",
    "%manim $_RIm"
   ]
  },
  {
   "cell_type": "code",
   "execution_count": null,
   "id": "fedc3efc",
   "metadata": {},
   "outputs": [],
   "source": [
    "class Example(Scene):\n",
    "  def construct(self):\n",
    "    grp = VGroup()\n",
    "    for i in range(3,10):\n",
    "      if i % 2 == 0:\n",
    "        grp.add( RegularPolygon(i) )\n",
    "    grp.arrange(RIGHT)\n",
    "    self.add(grp)\n",
    "%manim $_RIm"
   ]
  },
  {
   "cell_type": "code",
   "execution_count": null,
   "id": "c2c0377d",
   "metadata": {},
   "outputs": [],
   "source": [
    "class Example(Scene):\n",
    "  def construct(self):\n",
    "    grp = VGroup()\n",
    "    for i in range(3,10):\n",
    "      if i % 2 == 0:\n",
    "        grp.add( RegularPolygon(i) )\n",
    "      else:\n",
    "        grp.add( Tex(f\"{i}\") )\n",
    "    grp.arrange(RIGHT)\n",
    "    self.add(grp)\n",
    "%manim $_RIm"
   ]
  },
  {
   "cell_type": "code",
   "execution_count": null,
   "id": "e23f699d",
   "metadata": {},
   "outputs": [],
   "source": [
    "class Example(Scene):\n",
    "  def construct(self):\n",
    "    grp = VGroup()\n",
    "    for i in range(21):\n",
    "      t = Tex(f\"{i}\")\n",
    "      if i % 2 == 0:\n",
    "        grp.add( t.set_color(RED) )\n",
    "      elif i % 3 == 0:\n",
    "        grp.add( t.set_color(BLUE) )\n",
    "      elif i % 5 == 0:\n",
    "        grp.add( t.set_color(GREEN) )\n",
    "      else:\n",
    "        grp.add( t.set_color(YELLOW) )\n",
    "    grp.arrange(RIGHT)\n",
    "    self.add(grp)\n",
    "%manim $_RIm"
   ]
  },
  {
   "cell_type": "code",
   "execution_count": null,
   "id": "13264be1",
   "metadata": {},
   "outputs": [],
   "source": [
    "class Example(Scene):\n",
    "  def construct(self):\n",
    "    grp = VGroup()\n",
    "    for i in range(21):\n",
    "      t = Tex(f\"{i}\")\n",
    "      if i > 10:\n",
    "        grp.add( t )\n",
    "    grp.arrange(RIGHT)\n",
    "    self.add(grp)\n",
    "%manim $_RIm"
   ]
  },
  {
   "cell_type": "code",
   "execution_count": null,
   "id": "d447977b",
   "metadata": {},
   "outputs": [],
   "source": [
    "class Example(Scene):\n",
    "  def construct(self):\n",
    "    grp = VGroup()\n",
    "    for i in range(21):\n",
    "      t = Tex(f\"{i}\")\n",
    "      if 3 <= i < 15 :\n",
    "        grp.add( t )\n",
    "    grp.arrange(RIGHT)\n",
    "    self.add(grp)\n",
    "%manim $_RIm"
   ]
  },
  {
   "cell_type": "code",
   "execution_count": null,
   "id": "9ea0beee",
   "metadata": {},
   "outputs": [],
   "source": [
    "class Example(Scene):\n",
    "  def construct(self):\n",
    "    grp = VGroup()\n",
    "    for i in range(21):\n",
    "      t = Tex(f\"{i}\")\n",
    "      if 3 <= i < 10 or i > 15:\n",
    "        grp.add( t )\n",
    "    grp.arrange(RIGHT)\n",
    "    self.add(grp)\n",
    "%manim $_RIm"
   ]
  },
  {
   "cell_type": "code",
   "execution_count": null,
   "id": "c44e9c88",
   "metadata": {},
   "outputs": [],
   "source": [
    "class Example(Scene):\n",
    "  def construct(self):\n",
    "    grp = VGroup()\n",
    "    for i in range(21):\n",
    "      t = Tex(f\"{i}\")\n",
    "      if i % 2 == 0 and i > 10:\n",
    "        grp.add( t )\n",
    "    grp.arrange(RIGHT)\n",
    "    self.add(grp)\n",
    "%manim $_RIm"
   ]
  },
  {
   "cell_type": "code",
   "execution_count": null,
   "id": "d0b51193",
   "metadata": {},
   "outputs": [],
   "source": [
    "class Example(Scene):\n",
    "  def construct(self):\n",
    "    grp = VGroup()\n",
    "    for i in range(21):\n",
    "      t = Tex(f\"{i}\")\n",
    "      if i % 2 == 0:\n",
    "        if i > 10:\n",
    "          t.set_color(RED)\n",
    "        grp.add( t )\n",
    "    grp.arrange(RIGHT)\n",
    "    self.add(grp)\n",
    "%manim $_RIm"
   ]
  },
  {
   "cell_type": "code",
   "execution_count": null,
   "id": "6869315e",
   "metadata": {},
   "outputs": [],
   "source": [
    "class Example(Scene):\n",
    "  def construct(self):\n",
    "    grp = VGroup()\n",
    "    for i in range(21):\n",
    "      t = Tex(f\"{i}\") if i % 2 == 0 else Dot()\n",
    "      grp.add(t)\n",
    "    grp.arrange(RIGHT)\n",
    "    self.add(grp)\n",
    "%manim $_RIm"
   ]
  },
  {
   "cell_type": "code",
   "execution_count": null,
   "id": "4dc6a5ec",
   "metadata": {},
   "outputs": [],
   "source": [
    "class Example(Scene):\n",
    "  def construct(self):\n",
    "    d = {\"triangle\": 3, \"square\": 4, \"pentagon\": 5, \"hexagon\": 6}\n",
    "    r = RegularPolygon(d[\"square\"])\n",
    "    self.add(r)\n",
    "%manim $_RIm"
   ]
  },
  {
   "cell_type": "code",
   "execution_count": null,
   "id": "c512fee9",
   "metadata": {},
   "outputs": [],
   "source": [
    "d = {\"triangle\": 3, \"square\": 4, \"pentagon\": 5, \"hexagon\": 6}\n",
    "print(d.keys())"
   ]
  },
  {
   "cell_type": "code",
   "execution_count": null,
   "id": "7b1325b4",
   "metadata": {},
   "outputs": [],
   "source": [
    "print(d.values())"
   ]
  },
  {
   "cell_type": "code",
   "execution_count": null,
   "id": "06200823",
   "metadata": {},
   "outputs": [],
   "source": [
    "print(d.items())"
   ]
  },
  {
   "cell_type": "code",
   "execution_count": null,
   "id": "97f2859e",
   "metadata": {},
   "outputs": [],
   "source": []
  }
 ],
 "metadata": {
  "kernelspec": {
   "display_name": "mce19",
   "language": "python",
   "name": "python3"
  },
  "language_info": {
   "codemirror_mode": {
    "name": "ipython",
    "version": 3
   },
   "file_extension": ".py",
   "mimetype": "text/x-python",
   "name": "python",
   "nbconvert_exporter": "python",
   "pygments_lexer": "ipython3",
   "version": "3.12.9"
  }
 },
 "nbformat": 4,
 "nbformat_minor": 5
}
