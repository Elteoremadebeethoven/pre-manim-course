{
 "cells": [
  {
   "cell_type": "markdown",
   "id": "60a6774f",
   "metadata": {},
   "source": [
    "# Data types\n",
    "## Numbers"
   ]
  },
  {
   "cell_type": "code",
   "execution_count": null,
   "id": "58c421df",
   "metadata": {},
   "outputs": [],
   "source": [
    "integer_number = 2\n",
    "float_number  = 3.1416"
   ]
  },
  {
   "cell_type": "code",
   "execution_count": null,
   "id": "72f69a84",
   "metadata": {},
   "outputs": [],
   "source": [
    "integer_number / 2"
   ]
  },
  {
   "cell_type": "code",
   "execution_count": null,
   "id": "c7528f1a",
   "metadata": {},
   "outputs": [],
   "source": [
    "float_number * 2"
   ]
  },
  {
   "cell_type": "markdown",
   "id": "63f5b8d1",
   "metadata": {},
   "source": [
    "## Strings"
   ]
  },
  {
   "cell_type": "code",
   "execution_count": 9,
   "id": "0dbbdca5",
   "metadata": {},
   "outputs": [
    {
     "name": "stdout",
     "output_type": "stream",
     "text": [
      "Alexander - 2 - 3.1416\n",
      "Alexander - 3.142 - 2\n"
     ]
    }
   ],
   "source": [
    "name = \"Alexander\"\n",
    "# f-strings\n",
    "string_interpolated1 = f\"{name} - {integer_number} - {float_number}\"\n",
    "# with placeholders\n",
    "string_interpolated2 = \"%s - %.3f - %d\"%(name, float_number, integer_number)\n",
    "# %s: strings - %d: integers/boolean - %f: floats\n",
    "print(string_interpolated1)\n",
    "print(string_interpolated2)"
   ]
  },
  {
   "cell_type": "code",
   "execution_count": 10,
   "id": "26c0f32f",
   "metadata": {},
   "outputs": [
    {
     "data": {
      "text/plain": [
       "'Alexander - 2 - 3.1416'"
      ]
     },
     "execution_count": 10,
     "metadata": {},
     "output_type": "execute_result"
    }
   ],
   "source": [
    "string_interpolated1"
   ]
  },
  {
   "cell_type": "code",
   "execution_count": 11,
   "id": "b1a1f30a",
   "metadata": {},
   "outputs": [
    {
     "data": {
      "text/plain": [
       "'alexander'"
      ]
     },
     "execution_count": 11,
     "metadata": {},
     "output_type": "execute_result"
    }
   ],
   "source": [
    "name.lower()"
   ]
  },
  {
   "cell_type": "code",
   "execution_count": 12,
   "id": "3ca6293e",
   "metadata": {},
   "outputs": [
    {
     "data": {
      "text/plain": [
       "'ALEXANDER'"
      ]
     },
     "execution_count": 12,
     "metadata": {},
     "output_type": "execute_result"
    }
   ],
   "source": [
    "name.upper()"
   ]
  },
  {
   "cell_type": "markdown",
   "id": "7707c997",
   "metadata": {},
   "source": [
    "## Boolean"
   ]
  },
  {
   "cell_type": "code",
   "execution_count": 15,
   "id": "c1a4798d",
   "metadata": {},
   "outputs": [
    {
     "name": "stdout",
     "output_type": "stream",
     "text": [
      "t=True, f=False\n"
     ]
    }
   ],
   "source": [
    "t = True\n",
    "f = False\n",
    "print(f\"{t=}, {f=}\")"
   ]
  },
  {
   "cell_type": "markdown",
   "id": "ee3a7bd4",
   "metadata": {},
   "source": [
    "## Lists\n",
    "### Mutables"
   ]
  },
  {
   "cell_type": "code",
   "execution_count": 18,
   "id": "fa0d1129",
   "metadata": {},
   "outputs": [
    {
     "name": "stdout",
     "output_type": "stream",
     "text": [
      "['Alex', 2, 3.1416, True]\n",
      "Alex\n",
      "2\n",
      "3.1416\n",
      "True\n"
     ]
    }
   ],
   "source": [
    "#       0    1     2     3\n",
    "l = [\"Alex\", 2, 3.1416, True]\n",
    "print(l)\n",
    "print(l[0]) # Alex\n",
    "print(l[1]) # 2\n",
    "print(l[2]) # 3.1416\n",
    "print(l[3]) # True"
   ]
  },
  {
   "cell_type": "code",
   "execution_count": 19,
   "id": "abaf78c8",
   "metadata": {},
   "outputs": [
    {
     "name": "stdout",
     "output_type": "stream",
     "text": [
      "True\n",
      "3.1416\n",
      "2\n",
      "Alex\n"
     ]
    }
   ],
   "source": [
    "print(l[-1]) # True\n",
    "print(l[-2]) # 3.1416\n",
    "print(l[-3]) # 2\n",
    "print(l[-4]) # Alex"
   ]
  },
  {
   "cell_type": "code",
   "execution_count": 20,
   "id": "c8e323b5",
   "metadata": {},
   "outputs": [
    {
     "name": "stdout",
     "output_type": "stream",
     "text": [
      "[2, 3.1416]\n"
     ]
    }
   ],
   "source": [
    "print(l[1:3]) # slices, from 1 to 2"
   ]
  },
  {
   "cell_type": "code",
   "execution_count": 21,
   "id": "8aad478a",
   "metadata": {},
   "outputs": [
    {
     "name": "stdout",
     "output_type": "stream",
     "text": [
      "[2, 3.1416, True]\n"
     ]
    }
   ],
   "source": [
    "print(l[1:4])"
   ]
  },
  {
   "cell_type": "code",
   "execution_count": 22,
   "id": "96417a49",
   "metadata": {},
   "outputs": [
    {
     "name": "stdout",
     "output_type": "stream",
     "text": [
      "[2, 3.1416, True]\n"
     ]
    }
   ],
   "source": [
    "print(l[1:])"
   ]
  },
  {
   "cell_type": "code",
   "execution_count": 23,
   "id": "5a60e5e8",
   "metadata": {},
   "outputs": [
    {
     "name": "stdout",
     "output_type": "stream",
     "text": [
      "['Alex', 2]\n"
     ]
    }
   ],
   "source": [
    "print(l[:2])"
   ]
  },
  {
   "cell_type": "code",
   "execution_count": 24,
   "id": "bc3d0f5c",
   "metadata": {},
   "outputs": [
    {
     "name": "stdout",
     "output_type": "stream",
     "text": [
      "['Alex', 2, 3.1416, True]\n",
      "['Alex', 2, 3.1416, False]\n"
     ]
    }
   ],
   "source": [
    "print(l)\n",
    "l[-1] = False \n",
    "print(l)"
   ]
  },
  {
   "cell_type": "code",
   "execution_count": 25,
   "id": "c79fada3",
   "metadata": {},
   "outputs": [
    {
     "name": "stdout",
     "output_type": "stream",
     "text": [
      "('Alex', 2, 3.1416, True)\n"
     ]
    }
   ],
   "source": [
    "l2 = (\"Alex\", 2, 3.1416, True)\n",
    "print(l2)"
   ]
  },
  {
   "cell_type": "code",
   "execution_count": 27,
   "id": "7fe38c60",
   "metadata": {},
   "outputs": [],
   "source": [
    "# l2[-1] = False"
   ]
  },
  {
   "cell_type": "markdown",
   "id": "c8908700",
   "metadata": {},
   "source": [
    "## Dictionary"
   ]
  },
  {
   "cell_type": "code",
   "execution_count": 28,
   "id": "7e0c922f",
   "metadata": {},
   "outputs": [],
   "source": [
    "d = {\n",
    "  \"key1\": \"Hello\",\n",
    "  \"key2\": \"World\",\n",
    "  \"integer\": 10,\n",
    "  \"float\": 3.1416\n",
    "}"
   ]
  },
  {
   "cell_type": "code",
   "execution_count": 29,
   "id": "bdd3b0c1",
   "metadata": {},
   "outputs": [
    {
     "data": {
      "text/plain": [
       "{'key1': 'Hello', 'key2': 'World', 'integer': 10, 'float': 3.1416}"
      ]
     },
     "execution_count": 29,
     "metadata": {},
     "output_type": "execute_result"
    }
   ],
   "source": [
    "d"
   ]
  },
  {
   "cell_type": "code",
   "execution_count": 31,
   "id": "8d8e71a4",
   "metadata": {},
   "outputs": [
    {
     "data": {
      "text/plain": [
       "'Hello'"
      ]
     },
     "execution_count": 31,
     "metadata": {},
     "output_type": "execute_result"
    }
   ],
   "source": [
    "d[\"key1\"]"
   ]
  },
  {
   "cell_type": "code",
   "execution_count": 32,
   "id": "e446b46a",
   "metadata": {},
   "outputs": [
    {
     "name": "stdout",
     "output_type": "stream",
     "text": [
      "World\n"
     ]
    }
   ],
   "source": [
    "print(d[\"key2\"])"
   ]
  },
  {
   "cell_type": "code",
   "execution_count": 34,
   "id": "2e4d7769",
   "metadata": {},
   "outputs": [
    {
     "name": "stdout",
     "output_type": "stream",
     "text": [
      "20\n"
     ]
    }
   ],
   "source": [
    "d[\"integer\"] = 20\n",
    "print(d[\"integer\"])"
   ]
  },
  {
   "cell_type": "code",
   "execution_count": 35,
   "id": "4a34ae12",
   "metadata": {},
   "outputs": [
    {
     "data": {
      "text/plain": [
       "{'key1': 'Hello', 'key2': 'World', 'integer': 20, 'float': 3.1416}"
      ]
     },
     "execution_count": 35,
     "metadata": {},
     "output_type": "execute_result"
    }
   ],
   "source": [
    "d"
   ]
  },
  {
   "cell_type": "code",
   "execution_count": 36,
   "id": "77561c97",
   "metadata": {},
   "outputs": [
    {
     "name": "stdout",
     "output_type": "stream",
     "text": [
      "3.1416\n"
     ]
    }
   ],
   "source": [
    "print(d[\"float\"])"
   ]
  },
  {
   "cell_type": "code",
   "execution_count": 37,
   "id": "84c93c72",
   "metadata": {},
   "outputs": [
    {
     "data": {
      "text/plain": [
       "dict_keys(['key1', 'key2', 'integer', 'float'])"
      ]
     },
     "execution_count": 37,
     "metadata": {},
     "output_type": "execute_result"
    }
   ],
   "source": [
    "d.keys()"
   ]
  },
  {
   "cell_type": "code",
   "execution_count": 38,
   "id": "b074bde1",
   "metadata": {},
   "outputs": [
    {
     "data": {
      "text/plain": [
       "dict_values(['Hello', 'World', 20, 3.1416])"
      ]
     },
     "execution_count": 38,
     "metadata": {},
     "output_type": "execute_result"
    }
   ],
   "source": [
    "d.values()"
   ]
  },
  {
   "cell_type": "code",
   "execution_count": 39,
   "id": "1e51704c",
   "metadata": {},
   "outputs": [
    {
     "data": {
      "text/plain": [
       "dict_items([('key1', 'Hello'), ('key2', 'World'), ('integer', 20), ('float', 3.1416)])"
      ]
     },
     "execution_count": 39,
     "metadata": {},
     "output_type": "execute_result"
    }
   ],
   "source": [
    "d.items()"
   ]
  },
  {
   "cell_type": "code",
   "execution_count": 40,
   "id": "cbc54e4b",
   "metadata": {},
   "outputs": [
    {
     "name": "stdout",
     "output_type": "stream",
     "text": [
      "((1, 2), ('a', 'b'), (True, 3.1416), 'A')\n"
     ]
    }
   ],
   "source": [
    "l3 = ((1,2), (\"a\", \"b\"), (True, 3.1416), \"A\")\n",
    "print(l3)"
   ]
  },
  {
   "cell_type": "code",
   "execution_count": 50,
   "id": "bc282217",
   "metadata": {},
   "outputs": [
    {
     "data": {
      "text/plain": [
       "'A'"
      ]
     },
     "execution_count": 50,
     "metadata": {},
     "output_type": "execute_result"
    }
   ],
   "source": [
    "l3[3]"
   ]
  },
  {
   "cell_type": "code",
   "execution_count": 51,
   "id": "9aedb110",
   "metadata": {},
   "outputs": [],
   "source": [
    "string_as_list = \"Alexander\""
   ]
  },
  {
   "cell_type": "code",
   "execution_count": 54,
   "id": "e9e4a940",
   "metadata": {},
   "outputs": [
    {
     "data": {
      "text/plain": [
       "'der'"
      ]
     },
     "execution_count": 54,
     "metadata": {},
     "output_type": "execute_result"
    }
   ],
   "source": [
    "string_as_list[-3:]"
   ]
  },
  {
   "cell_type": "code",
   "execution_count": null,
   "id": "14d55fa7",
   "metadata": {},
   "outputs": [],
   "source": []
  }
 ],
 "metadata": {
  "kernelspec": {
   "display_name": "mce19",
   "language": "python",
   "name": "python3"
  },
  "language_info": {
   "codemirror_mode": {
    "name": "ipython",
    "version": 3
   },
   "file_extension": ".py",
   "mimetype": "text/x-python",
   "name": "python",
   "nbconvert_exporter": "python",
   "pygments_lexer": "ipython3",
   "version": "3.12.9"
  }
 },
 "nbformat": 4,
 "nbformat_minor": 5
}
