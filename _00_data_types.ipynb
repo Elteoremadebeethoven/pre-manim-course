{
 "cells": [
  {
   "cell_type": "markdown",
   "id": "60a6774f",
   "metadata": {},
   "source": [
    "# Data types\n",
    "## Numbers"
   ]
  },
  {
   "cell_type": "code",
   "execution_count": null,
   "id": "58c421df",
   "metadata": {},
   "outputs": [],
   "source": [
    "integer_number = 2\n",
    "float_number  = 3.1416"
   ]
  },
  {
   "cell_type": "code",
   "execution_count": null,
   "id": "72f69a84",
   "metadata": {},
   "outputs": [],
   "source": [
    "integer_number + 2"
   ]
  },
  {
   "cell_type": "code",
   "execution_count": null,
   "id": "c7528f1a",
   "metadata": {},
   "outputs": [],
   "source": [
    "float_number * 2"
   ]
  },
  {
   "cell_type": "markdown",
   "id": "63f5b8d1",
   "metadata": {},
   "source": [
    "## Strings"
   ]
  },
  {
   "cell_type": "code",
   "execution_count": null,
   "id": "0dbbdca5",
   "metadata": {},
   "outputs": [],
   "source": [
    "name = 'Alexander'\n",
    "# f-strings\n",
    "string_interpolated1 = f\"{name} - {integer_number} - {float_number}\"\n",
    "# with placeholders\n",
    "string_interpolated2 = \"%s - %d - %f\"%(name, integer_number, float_number)\n",
    "print(string_interpolated1)\n",
    "print(string_interpolated2)"
   ]
  },
  {
   "cell_type": "code",
   "execution_count": null,
   "id": "26c0f32f",
   "metadata": {},
   "outputs": [],
   "source": [
    "string_interpolated1"
   ]
  },
  {
   "cell_type": "code",
   "execution_count": null,
   "id": "b1a1f30a",
   "metadata": {},
   "outputs": [],
   "source": [
    "name.lower()"
   ]
  },
  {
   "cell_type": "code",
   "execution_count": null,
   "id": "3ca6293e",
   "metadata": {},
   "outputs": [],
   "source": [
    "name.upper()"
   ]
  },
  {
   "cell_type": "markdown",
   "id": "7707c997",
   "metadata": {},
   "source": [
    "## Boolean"
   ]
  },
  {
   "cell_type": "code",
   "execution_count": null,
   "id": "c1a4798d",
   "metadata": {},
   "outputs": [],
   "source": [
    "t = True\n",
    "f = False\n",
    "print(f\"{t=}, {f=}\")"
   ]
  },
  {
   "cell_type": "markdown",
   "id": "ee3a7bd4",
   "metadata": {},
   "source": [
    "## Lists\n",
    "### Mutables"
   ]
  },
  {
   "cell_type": "code",
   "execution_count": null,
   "id": "fa0d1129",
   "metadata": {},
   "outputs": [],
   "source": [
    "#       0    1     2     3\n",
    "l = [\"Alex\", 2, 3.1416, True]\n",
    "print(l)\n",
    "print(l[0]) # Alex\n",
    "print(l[1]) # 2\n",
    "print(l[2]) # 3.1416\n",
    "print(l[3]) # True"
   ]
  },
  {
   "cell_type": "code",
   "execution_count": null,
   "id": "abaf78c8",
   "metadata": {},
   "outputs": [],
   "source": [
    "print(l[-1]) # True\n",
    "print(l[-2]) # 3.1416\n",
    "print(l[-3]) # 2\n",
    "print(l[-4]) # Alex"
   ]
  },
  {
   "cell_type": "code",
   "execution_count": null,
   "id": "c8e323b5",
   "metadata": {},
   "outputs": [],
   "source": [
    "print(l[1:3])"
   ]
  },
  {
   "cell_type": "code",
   "execution_count": null,
   "id": "8aad478a",
   "metadata": {},
   "outputs": [],
   "source": [
    "print(l[1:4])"
   ]
  },
  {
   "cell_type": "code",
   "execution_count": null,
   "id": "96417a49",
   "metadata": {},
   "outputs": [],
   "source": [
    "print(l[1:])"
   ]
  },
  {
   "cell_type": "code",
   "execution_count": null,
   "id": "5a60e5e8",
   "metadata": {},
   "outputs": [],
   "source": [
    "print(l[:2])"
   ]
  },
  {
   "cell_type": "code",
   "execution_count": null,
   "id": "bc3d0f5c",
   "metadata": {},
   "outputs": [],
   "source": [
    "l[-1] = False \n",
    "print(l)"
   ]
  },
  {
   "cell_type": "code",
   "execution_count": null,
   "id": "c79fada3",
   "metadata": {},
   "outputs": [],
   "source": [
    "l2 = (\"Alex\", 2, 3.1416, True)\n",
    "print(l2)"
   ]
  },
  {
   "cell_type": "code",
   "execution_count": null,
   "id": "7fe38c60",
   "metadata": {},
   "outputs": [],
   "source": [
    "#l2[-1] = False"
   ]
  },
  {
   "cell_type": "markdown",
   "id": "c8908700",
   "metadata": {},
   "source": [
    "## Dictionary"
   ]
  },
  {
   "cell_type": "code",
   "execution_count": null,
   "id": "7e0c922f",
   "metadata": {},
   "outputs": [],
   "source": [
    "d = {\"key1\": \"Hello\", \"key2\": \"World\", \"integer\": 10, \"float\": 3.1416}"
   ]
  },
  {
   "cell_type": "code",
   "execution_count": null,
   "id": "8d8e71a4",
   "metadata": {},
   "outputs": [],
   "source": [
    "print(d[\"key1\"])"
   ]
  },
  {
   "cell_type": "code",
   "execution_count": null,
   "id": "e446b46a",
   "metadata": {},
   "outputs": [],
   "source": [
    "print(d[\"key2\"])"
   ]
  },
  {
   "cell_type": "code",
   "execution_count": null,
   "id": "2e4d7769",
   "metadata": {},
   "outputs": [],
   "source": [
    "print(d[\"integer\"])"
   ]
  },
  {
   "cell_type": "code",
   "execution_count": null,
   "id": "77561c97",
   "metadata": {},
   "outputs": [],
   "source": [
    "print(d[\"float\"])"
   ]
  },
  {
   "cell_type": "code",
   "execution_count": null,
   "id": "84c93c72",
   "metadata": {},
   "outputs": [],
   "source": [
    "d.keys()"
   ]
  },
  {
   "cell_type": "code",
   "execution_count": null,
   "id": "b074bde1",
   "metadata": {},
   "outputs": [],
   "source": [
    "d.values()"
   ]
  },
  {
   "cell_type": "code",
   "execution_count": null,
   "id": "1e51704c",
   "metadata": {},
   "outputs": [],
   "source": [
    "d.items()"
   ]
  },
  {
   "cell_type": "code",
   "execution_count": null,
   "id": "cbc54e4b",
   "metadata": {},
   "outputs": [],
   "source": []
  }
 ],
 "metadata": {
  "kernelspec": {
   "display_name": "mce19",
   "language": "python",
   "name": "python3"
  },
  "language_info": {
   "codemirror_mode": {
    "name": "ipython",
    "version": 3
   },
   "file_extension": ".py",
   "mimetype": "text/x-python",
   "name": "python",
   "nbconvert_exporter": "python",
   "pygments_lexer": "ipython3",
   "version": "3.12.9"
  }
 },
 "nbformat": 4,
 "nbformat_minor": 5
}
