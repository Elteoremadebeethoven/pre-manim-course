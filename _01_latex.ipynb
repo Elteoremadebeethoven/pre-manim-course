{
 "cells": [
  {
   "cell_type": "code",
   "execution_count": null,
   "id": "a6b99c13",
   "metadata": {},
   "outputs": [],
   "source": [
    "from manim import *\n",
    "config.media_embed = True\n",
    "config.media_width = \"100%\"\n",
    "_RIm = \"-r1440,200 -v WARNING -s --progress_bar None --disable_caching Example\""
   ]
  },
  {
   "cell_type": "markdown",
   "id": "4a100182",
   "metadata": {},
   "source": [
    "# $\\LaTeX$ - Data types"
   ]
  },
  {
   "cell_type": "code",
   "execution_count": null,
   "id": "6e0ada28",
   "metadata": {},
   "outputs": [],
   "source": [
    "class Example(Scene):\n",
    "  def construct(self):\n",
    "    t = Tex(\"Hello world\")\n",
    "    self.add(t)\n",
    "%manim $_RIm"
   ]
  },
  {
   "cell_type": "code",
   "execution_count": null,
   "id": "bd7aa686",
   "metadata": {},
   "outputs": [],
   "source": [
    "class Example(Scene):\n",
    "  def construct(self):\n",
    "    number_integer = 10\n",
    "    number_float   = 3.1416\n",
    "    string  = \"Alex\"\n",
    "    boolean = True\n",
    "\n",
    "    interpolated_string = \"%d - %f - %s - %s\"%(number_integer, number_float, string, boolean)\n",
    "    self.add(Tex(interpolated_string))\n",
    "\n",
    "%manim $_RIm"
   ]
  },
  {
   "cell_type": "code",
   "execution_count": null,
   "id": "c986406c",
   "metadata": {},
   "outputs": [],
   "source": [
    "class Example(Scene):\n",
    "  def construct(self):\n",
    "    number_integer = 10\n",
    "    number_float   = 3.1416\n",
    "    string  = \"Alex\"\n",
    "    boolean = True\n",
    "\n",
    "    interpolated_string = f\"{number_float} - {number_integer} - {boolean} - {string}\"\n",
    "    self.add(Tex(interpolated_string))\n",
    "\n",
    "%manim $_RIm"
   ]
  },
  {
   "cell_type": "markdown",
   "id": "b1b8e071",
   "metadata": {},
   "source": [
    "$$\\Large x = \\frac{52}{117}$$"
   ]
  },
  {
   "cell_type": "code",
   "execution_count": null,
   "id": "438b5da3",
   "metadata": {},
   "outputs": [],
   "source": [
    "class Example(Scene):\n",
    "  def construct(self):\n",
    "    self.add(MathTex(\"\\\\frac{52}{117}\"))\n",
    "    # self.add(MathTex(r\"\\frac{117}{52}\"))\n",
    "\n",
    "%manim $_RIm"
   ]
  },
  {
   "cell_type": "code",
   "execution_count": null,
   "id": "b3724ae2",
   "metadata": {},
   "outputs": [],
   "source": [
    "class Example(Scene):\n",
    "  def construct(self):\n",
    "    n = 60\n",
    "    d = 350\n",
    "    self.add(MathTex(\"\\\\frac{%s}{%s}\"%(n, d)))\n",
    "\n",
    "%manim $_RIm"
   ]
  },
  {
   "cell_type": "code",
   "execution_count": null,
   "id": "25d3f85a",
   "metadata": {},
   "outputs": [],
   "source": [
    "class Example(Scene):\n",
    "  def construct(self):\n",
    "    n, d = 35, 13\n",
    "    self.add(MathTex(f\"\\\\frac{{{n}}}{{{d}}}\"))\n",
    "\n",
    "%manim $_RIm"
   ]
  },
  {
   "cell_type": "code",
   "execution_count": null,
   "id": "c8fa911f",
   "metadata": {},
   "outputs": [],
   "source": [
    "class Example(Scene):\n",
    "  def construct(self):\n",
    "    self.add(MathTex(\"a^2 + b^2 = c^2\"))\n",
    "%manim $_RIm"
   ]
  },
  {
   "cell_type": "code",
   "execution_count": null,
   "id": "63dc9c4c",
   "metadata": {},
   "outputs": [],
   "source": [
    "class Example(Scene):\n",
    "  def construct(self):\n",
    "    self.add(MathTex(\"a_2 + b_2 = c_2\"))\n",
    "%manim $_RIm"
   ]
  },
  {
   "cell_type": "code",
   "execution_count": null,
   "id": "31dad905",
   "metadata": {},
   "outputs": [],
   "source": [
    "class Example(Scene):\n",
    "  def construct(self):\n",
    "    self.add(MathTex(\"a^2_x + b^2_y = c^2_z\"))\n",
    "%manim $_RIm"
   ]
  },
  {
   "cell_type": "code",
   "execution_count": null,
   "id": "89dd8811",
   "metadata": {},
   "outputs": [],
   "source": [
    "class Example(Scene):\n",
    "  def construct(self):\n",
    "    self.add(MathTex(\"a^123_456\"))\n",
    "%manim $_RIm"
   ]
  },
  {
   "cell_type": "code",
   "execution_count": null,
   "id": "b92fc37d",
   "metadata": {},
   "outputs": [],
   "source": [
    "class Example(Scene):\n",
    "  def construct(self):\n",
    "    self.add(MathTex(\"a^{123}_{456}\"))\n",
    "%manim $_RIm"
   ]
  },
  {
   "cell_type": "code",
   "execution_count": null,
   "id": "86824e54",
   "metadata": {},
   "outputs": [],
   "source": [
    "class Example(Scene):\n",
    "  def construct(self):\n",
    "    self.add(MathTex(\"\\\\sum_{i=0}^{\\\\infty} f(i)\"))\n",
    "%manim $_RIm"
   ]
  },
  {
   "cell_type": "code",
   "execution_count": null,
   "id": "7f5333d9",
   "metadata": {},
   "outputs": [],
   "source": [
    "class Example(Scene):\n",
    "  def construct(self):\n",
    "    # https://es.overleaf.com/learn/latex/List_of_Greek_letters_and_math_symbols\n",
    "    self.add(MathTex(\"\\\\Sigma_{i=0}^{\\\\infty} f(i)\"))\n",
    "%manim $_RIm"
   ]
  },
  {
   "cell_type": "code",
   "execution_count": null,
   "id": "67af4d7f",
   "metadata": {},
   "outputs": [],
   "source": [
    "class Example(Scene):\n",
    "  def construct(self):\n",
    "    self.add(MathTex(\"\\\\frac{d}{dx} f(x) \\\\int_a^x f(t)dt = f(x)\"))\n",
    "%manim $_RIm"
   ]
  },
  {
   "cell_type": "code",
   "execution_count": null,
   "id": "6f5a9e6e",
   "metadata": {},
   "outputs": [],
   "source": [
    "class Example(Scene):\n",
    "  def construct(self):\n",
    "    self.add(Tex(\"Pythagorean theorem: $a^2 + b^2 = c^2$\"))\n",
    "%manim $_RIm"
   ]
  },
  {
   "cell_type": "code",
   "execution_count": null,
   "id": "17e5e893",
   "metadata": {},
   "outputs": [],
   "source": [
    "class Example(Scene):\n",
    "  def construct(self):\n",
    "    self.add(Tex(\"Sumatory: $\\\\sum_i^n f(i)$\"))\n",
    "%manim $_RIm"
   ]
  },
  {
   "cell_type": "code",
   "execution_count": null,
   "id": "ba623505",
   "metadata": {},
   "outputs": [],
   "source": [
    "class Example(Scene):\n",
    "  def construct(self):\n",
    "    self.add(Tex(\"Sumatory: $\\\\displaystyle\\\\sum_i^n f(i)$\"))\n",
    "%manim $_RIm"
   ]
  },
  {
   "cell_type": "markdown",
   "id": "22ee664a",
   "metadata": {},
   "source": [
    "## Learn more\n",
    "Equation Editor for online mathematics: [link](https://editor.codecogs.com/)"
   ]
  },
  {
   "cell_type": "code",
   "execution_count": null,
   "id": "d14e90ae",
   "metadata": {},
   "outputs": [],
   "source": [
    "class Example(Scene):\n",
    "  def construct(self):\n",
    "    self.add(\n",
    "      MathTex(r\"\\bigcup_{a}^{b}\\displaystyle \\lim_{x \\to \\infty} \\mathbb{Z} \\psi \\underbrace{abc}_{xyz}\")\n",
    "    )\n",
    "%manim $_RIm"
   ]
  },
  {
   "cell_type": "code",
   "execution_count": null,
   "id": "d1acd54d",
   "metadata": {},
   "outputs": [],
   "source": []
  }
 ],
 "metadata": {
  "kernelspec": {
   "display_name": "mce19",
   "language": "python",
   "name": "python3"
  },
  "language_info": {
   "codemirror_mode": {
    "name": "ipython",
    "version": 3
   },
   "file_extension": ".py",
   "mimetype": "text/x-python",
   "name": "python",
   "nbconvert_exporter": "python",
   "pygments_lexer": "ipython3",
   "version": "3.12.9"
  }
 },
 "nbformat": 4,
 "nbformat_minor": 5
}
