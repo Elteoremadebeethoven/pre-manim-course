{
 "cells": [
  {
   "cell_type": "code",
   "execution_count": null,
   "id": "a956a659",
   "metadata": {},
   "outputs": [],
   "source": [
    "from manim import *\n",
    "config.media_embed = True\n",
    "config.media_width = \"100%\"\n",
    "_RIm = \"-r1440,220 -v WARNING -s --progress_bar None --disable_caching Example\"\n",
    "_RI = \"-v WARNING -s --progress_bar None --disable_caching Example\""
   ]
  },
  {
   "cell_type": "markdown",
   "id": "42fc7d51",
   "metadata": {},
   "source": [
    "# Functions"
   ]
  },
  {
   "cell_type": "code",
   "execution_count": null,
   "id": "069252b2",
   "metadata": {},
   "outputs": [],
   "source": [
    "class Example(Scene):\n",
    "  def construct(self):\n",
    "    def f(mob):\n",
    "      mob.set_color(RED)\n",
    "    s = Square()\n",
    "    t = Triangle()\n",
    "    f(s)\n",
    "    f(t)\n",
    "    self.add(s, t)\n",
    "%manim $_RIm"
   ]
  },
  {
   "cell_type": "code",
   "execution_count": null,
   "id": "205748e5",
   "metadata": {},
   "outputs": [],
   "source": [
    "\n",
    "def f(mob):\n",
    "  mob.set_color(RED)\n",
    "\n",
    "class Example(Scene):\n",
    "  def construct(self):\n",
    "    s = Square()\n",
    "    t = Triangle()\n",
    "    f(s)\n",
    "    f(t)\n",
    "    self.add(s, t)\n",
    "%manim $_RIm"
   ]
  },
  {
   "cell_type": "code",
   "execution_count": null,
   "id": "f4e59ddc",
   "metadata": {},
   "outputs": [],
   "source": [
    "# def f():\n",
    "#   s.set_color(RED)\n",
    "\n",
    "class Example(Scene):\n",
    "  def construct(self):\n",
    "    s = Square()\n",
    "    def f():\n",
    "      s.set_color(RED)\n",
    "    f()\n",
    "    self.add(s)\n",
    "%manim $_RIm"
   ]
  },
  {
   "cell_type": "code",
   "execution_count": null,
   "id": "c0f800c9",
   "metadata": {},
   "outputs": [],
   "source": [
    "class Example(Scene):\n",
    "  def construct(self):\n",
    "    def f():\n",
    "      return Square()\n",
    "    s = f()\n",
    "    self.add(s)\n",
    "%manim $_RIm"
   ]
  },
  {
   "cell_type": "code",
   "execution_count": null,
   "id": "d8ee0ad8",
   "metadata": {},
   "outputs": [],
   "source": [
    "class Example(Scene):\n",
    "  def construct(self):\n",
    "    def f(color):\n",
    "      return Square().set_color(color)\n",
    "    s = f(ORANGE)\n",
    "    self.add(s)\n",
    "%manim $_RIm"
   ]
  },
  {
   "cell_type": "code",
   "execution_count": null,
   "id": "1cd3222a",
   "metadata": {},
   "outputs": [],
   "source": [
    "class Example(Scene):\n",
    "  def construct(self):\n",
    "    def f(color=YELLOW):\n",
    "      return Square().set_color(color)\n",
    "    s = f()\n",
    "    self.add(s)\n",
    "%manim $_RIm"
   ]
  },
  {
   "cell_type": "code",
   "execution_count": null,
   "id": "bc49a40a",
   "metadata": {},
   "outputs": [],
   "source": [
    "class Example(Scene):\n",
    "  def construct(self):\n",
    "    def f(n, color=TEAL):\n",
    "      return RegularPolygon(n).set_color(color)\n",
    "    s = f(3)\n",
    "    self.add(s)\n",
    "%manim $_RIm"
   ]
  },
  {
   "cell_type": "code",
   "execution_count": null,
   "id": "63182891",
   "metadata": {},
   "outputs": [],
   "source": [
    "def sumatory(*args):\n",
    "  print(args)\n",
    "  s = 0\n",
    "  for v in args:\n",
    "    s = s + v\n",
    "  return s"
   ]
  },
  {
   "cell_type": "code",
   "execution_count": null,
   "id": "be4df26d",
   "metadata": {},
   "outputs": [],
   "source": [
    "print(sumatory(3, 4, 5, 1))"
   ]
  },
  {
   "cell_type": "code",
   "execution_count": null,
   "id": "a847e788",
   "metadata": {},
   "outputs": [],
   "source": [
    "def sumatory2(*any_list):\n",
    "  s = 0\n",
    "  for v in any_list:\n",
    "    s += v\n",
    "  return s\n",
    "print(sumatory2(3, 4, 5, 1))"
   ]
  },
  {
   "cell_type": "code",
   "execution_count": null,
   "id": "097db21b",
   "metadata": {},
   "outputs": [],
   "source": [
    "l = [3, 4, 5, 1]\n",
    "print(sumatory(*l))"
   ]
  },
  {
   "cell_type": "code",
   "execution_count": null,
   "id": "6560612e",
   "metadata": {},
   "outputs": [],
   "source": [
    "l1 = [5, 1]\n",
    "l2 = [3, 4]\n",
    "print(sumatory(*l1, *l2))"
   ]
  },
  {
   "cell_type": "code",
   "execution_count": null,
   "id": "20605d6e",
   "metadata": {},
   "outputs": [],
   "source": [
    "def printkwargs(**kwargs):\n",
    "  print(kwargs)"
   ]
  },
  {
   "cell_type": "code",
   "execution_count": null,
   "id": "3b405c05",
   "metadata": {},
   "outputs": [],
   "source": [
    "printkwargs(a=1, val=3.1415, other=\"Alex\")"
   ]
  },
  {
   "cell_type": "code",
   "execution_count": null,
   "id": "761dc01b",
   "metadata": {},
   "outputs": [],
   "source": [
    "class Example(Scene):\n",
    "  def construct(self):\n",
    "    self.add(\n",
    "      RegularPolygon(n=4, color=ORANGE, stroke_width=2)\n",
    "    )\n",
    "%manim $_RIm"
   ]
  },
  {
   "cell_type": "code",
   "execution_count": null,
   "id": "444875f7",
   "metadata": {},
   "outputs": [],
   "source": [
    "class Example(Scene):\n",
    "  def construct(self):\n",
    "    def f(**kwargs):\n",
    "      return RegularPolygon(**kwargs)\n",
    "    s = f(color=RED, stroke_width=10)\n",
    "    self.add(s)\n",
    "%manim $_RIm"
   ]
  },
  {
   "cell_type": "code",
   "execution_count": null,
   "id": "916f17ae",
   "metadata": {},
   "outputs": [],
   "source": [
    "class Example(Scene):\n",
    "  def construct(self):\n",
    "    d = {\"n\": 5, \"color\": PURPLE, \"stroke_width\": 20}\n",
    "    def f(**kwargs):\n",
    "      return RegularPolygon(**kwargs)\n",
    "    s = f(**d)\n",
    "    self.add(s)\n",
    "%manim $_RIm"
   ]
  },
  {
   "cell_type": "code",
   "execution_count": null,
   "id": "bdec647e",
   "metadata": {},
   "outputs": [],
   "source": [
    "class Example(Scene):\n",
    "  def construct(self):\n",
    "    d1 = {\"n\": 8, \"stroke_color\": YELLOW}\n",
    "    d2 = {\"fill_opacity\": 1, \"fill_color\": PINK}\n",
    "    def f(**kwargs):\n",
    "      return RegularPolygon(**kwargs)\n",
    "    s = f(**d1, **d2)\n",
    "    self.add(s)\n",
    "%manim $_RIm"
   ]
  },
  {
   "cell_type": "markdown",
   "id": "5bf70000",
   "metadata": {},
   "source": [
    "# List comprehension"
   ]
  },
  {
   "cell_type": "code",
   "execution_count": null,
   "id": "dc675c4b",
   "metadata": {},
   "outputs": [],
   "source": [
    "class Example(Scene):\n",
    "  def construct(self):\n",
    "    grp = VGroup()\n",
    "    for i in range(3,9):\n",
    "      grp.add( RegularPolygon(i) )\n",
    "    grp.arrange(RIGHT)\n",
    "    self.add(grp)\n",
    "%manim $_RIm"
   ]
  },
  {
   "cell_type": "code",
   "execution_count": null,
   "id": "fdabb9e2",
   "metadata": {},
   "outputs": [],
   "source": [
    "class Example(Scene):\n",
    "  def construct(self):\n",
    "    pols = [RegularPolygon(i) for i in range(3,8)]\n",
    "    grp = VGroup(*pols)\n",
    "    grp.arrange(RIGHT)\n",
    "    self.add(grp)\n",
    "%manim $_RIm"
   ]
  },
  {
   "cell_type": "code",
   "execution_count": null,
   "id": "89cdc349",
   "metadata": {},
   "outputs": [],
   "source": [
    "class Example(Scene):\n",
    "  def construct(self):\n",
    "    grp = VGroup(*[RegularPolygon(i) for i in range(3,8)])\n",
    "    grp.arrange(LEFT)\n",
    "    self.add(grp)\n",
    "%manim $_RIm"
   ]
  },
  {
   "cell_type": "code",
   "execution_count": null,
   "id": "ea54ed4d",
   "metadata": {},
   "outputs": [],
   "source": [
    "class Example(Scene):\n",
    "  def construct(self):\n",
    "    grp = VGroup(*[\n",
    "      RegularPolygon(i, color=RED)\n",
    "      for i in range(3,8)\n",
    "    ]).arrange(RIGHT)\n",
    "    self.add(grp)\n",
    "%manim $_RIm"
   ]
  },
  {
   "cell_type": "code",
   "execution_count": null,
   "id": "35733a25",
   "metadata": {},
   "outputs": [],
   "source": [
    "class Example(Scene):\n",
    "  def construct(self):\n",
    "    grp = VGroup(*[\n",
    "      Tex(f\"{i}\")\n",
    "      for i in range(20)\n",
    "    ]).arrange(RIGHT)\n",
    "    self.add(grp)\n",
    "%manim $_RIm"
   ]
  },
  {
   "cell_type": "code",
   "execution_count": null,
   "id": "a4639629",
   "metadata": {},
   "outputs": [],
   "source": [
    "class Example(Scene):\n",
    "  def construct(self):\n",
    "    grp = VGroup(*[\n",
    "      Tex(f\"{i}\")\n",
    "      for i in range(10)\n",
    "      if i != 5\n",
    "    ]).arrange(RIGHT)\n",
    "    self.add(grp)\n",
    "%manim $_RIm"
   ]
  },
  {
   "cell_type": "markdown",
   "id": "45282fc1",
   "metadata": {},
   "source": [
    "# Lambda functions"
   ]
  },
  {
   "cell_type": "code",
   "execution_count": null,
   "id": "421d5401",
   "metadata": {},
   "outputs": [],
   "source": [
    "class Example(Scene):\n",
    "  def construct(self):\n",
    "    axes = NumberPlane().fade(0.5)\n",
    "    def sin(x):\n",
    "      return np.sin(x)\n",
    "    plot = axes.plot(sin, color=YELLOW)\n",
    "\n",
    "    self.add(axes, plot)\n",
    "%manim $_RIm"
   ]
  },
  {
   "cell_type": "code",
   "execution_count": null,
   "id": "ad70850a",
   "metadata": {},
   "outputs": [],
   "source": [
    "class Example(Scene):\n",
    "  def construct(self):\n",
    "    axes = NumberPlane().fade(0.5)\n",
    "    # def sin(x):\n",
    "    #   return np.sin(x)\n",
    "    sin  = lambda x: np.sin(x)\n",
    "    plot = axes.plot(sin, color=PURPLE)\n",
    "\n",
    "    self.add(axes, plot)\n",
    "%manim $_RIm"
   ]
  },
  {
   "cell_type": "code",
   "execution_count": null,
   "id": "68eae88d",
   "metadata": {},
   "outputs": [],
   "source": [
    "class Example(Scene):\n",
    "  def construct(self):\n",
    "    axes = NumberPlane().fade(0.5)\n",
    "    # def sin(x):\n",
    "    #   return np.sin(x)\n",
    "    plot = axes.plot(lambda x: np.sin(x), color=GREEN)\n",
    "\n",
    "    self.add(axes, plot)\n",
    "%manim $_RIm"
   ]
  },
  {
   "cell_type": "code",
   "execution_count": null,
   "id": "cec9a16e",
   "metadata": {},
   "outputs": [],
   "source": [
    "class Example(Scene):\n",
    "  def construct(self):\n",
    "    axes = NumberPlane().fade(0.5)\n",
    "    plot = axes.plot(np.sin, color=RED)\n",
    "\n",
    "    self.add(axes, plot)\n",
    "%manim $_RIm"
   ]
  },
  {
   "cell_type": "code",
   "execution_count": null,
   "id": "d3d3e7bf",
   "metadata": {},
   "outputs": [],
   "source": [
    "class Example(Scene):\n",
    "  def construct(self):\n",
    "    axes = NumberPlane().fade(0.5)\n",
    "    plot_up   = axes.plot(lambda x: x**2, color=YELLOW)\n",
    "    plot_down = axes.plot(lambda x: -x**2, color=GREEN)\n",
    "\n",
    "    self.add(axes, plot_up, plot_down)\n",
    "%manim $_RI"
   ]
  },
  {
   "cell_type": "code",
   "execution_count": null,
   "id": "32dc154d",
   "metadata": {},
   "outputs": [],
   "source": []
  }
 ],
 "metadata": {
  "kernelspec": {
   "display_name": "mce19",
   "language": "python",
   "name": "python3"
  },
  "language_info": {
   "codemirror_mode": {
    "name": "ipython",
    "version": 3
   },
   "file_extension": ".py",
   "mimetype": "text/x-python",
   "name": "python",
   "nbconvert_exporter": "python",
   "pygments_lexer": "ipython3",
   "version": "3.12.9"
  }
 },
 "nbformat": 4,
 "nbformat_minor": 5
}
