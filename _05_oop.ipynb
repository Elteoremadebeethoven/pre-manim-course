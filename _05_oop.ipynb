{
 "cells": [
  {
   "cell_type": "code",
   "execution_count": null,
   "id": "9050a58e",
   "metadata": {},
   "outputs": [],
   "source": [
    "from manim import *\n",
    "config.media_embed = True\n",
    "config.media_width = \"100%\"\n",
    "_RIm = \"-r1440,240 -v WARNING -s --progress_bar None --disable_caching Example\"\n",
    "_RI = \"-v WARNING -s --progress_bar None --disable_caching Example\""
   ]
  },
  {
   "cell_type": "markdown",
   "id": "1da1c04c",
   "metadata": {},
   "source": [
    "# Object-oriented programming"
   ]
  },
  {
   "cell_type": "code",
   "execution_count": null,
   "id": "43a719de",
   "metadata": {},
   "outputs": [],
   "source": [
    "class MySquare(Square):\n",
    "  pass\n",
    "\n",
    "class Example(Scene):\n",
    "  def construct(self):\n",
    "    s = MySquare(color=RED)\n",
    "    self.add(s)\n",
    "%manim $_RIm"
   ]
  },
  {
   "cell_type": "code",
   "execution_count": null,
   "id": "8a2ff8da",
   "metadata": {},
   "outputs": [],
   "source": [
    "class MySquare2(Square):\n",
    "  def __init__(self, *args, **kwargs):\n",
    "    print(f\"{args=}\")\n",
    "    print(f\"{kwargs=}\")\n",
    "    super().__init__(*args, **kwargs) # New way\n",
    "    # Square.__init__(self, *args, **kwargs)  # Old way\n",
    "\n",
    "class Example(Scene):\n",
    "  def construct(self):\n",
    "    s = MySquare2(0.5, color=ORANGE)\n",
    "    self.add(s)\n",
    "%manim $_RIm"
   ]
  },
  {
   "cell_type": "code",
   "execution_count": null,
   "id": "bd9d5c2d",
   "metadata": {},
   "outputs": [],
   "source": [
    "class RedSquare(Square):\n",
    "  def __init__(self, *args, color=RED, **kwargs):\n",
    "    print(kwargs)\n",
    "    super().__init__(*args, color=color, **kwargs)\n",
    "\n",
    "class Example(Scene):\n",
    "  def construct(self):\n",
    "    s = RedSquare()\n",
    "    self.add(s)\n",
    "%manim $_RIm"
   ]
  },
  {
   "cell_type": "code",
   "execution_count": null,
   "id": "1661d5e3",
   "metadata": {},
   "outputs": [],
   "source": [
    "class MyPolygon:\n",
    "  def __init__(self, sides=0):\n",
    "    self.sides = sides\n",
    "\n",
    "polygon = MyPolygon()\n",
    "print(polygon.sides)"
   ]
  },
  {
   "cell_type": "code",
   "execution_count": null,
   "id": "19138ae8",
   "metadata": {},
   "outputs": [],
   "source": [
    "class MyPolygon:\n",
    "  def __init__(self, sides=0):\n",
    "    self.sides = sides\n",
    "\n",
    "polygon = MyPolygon()\n",
    "print(f\"{polygon.sides=}\")\n",
    "polygon.sides = 20\n",
    "print(f\"{polygon.sides=}\")"
   ]
  },
  {
   "cell_type": "code",
   "execution_count": null,
   "id": "29263db8",
   "metadata": {},
   "outputs": [],
   "source": [
    "class MyPentagon(MyPolygon):\n",
    "  def __init__(self, sides=5):\n",
    "    super().__init__(sides)\n",
    "\n",
    "pentagon = MyPentagon()\n",
    "print(pentagon.sides)"
   ]
  },
  {
   "cell_type": "code",
   "execution_count": null,
   "id": "435c64b6",
   "metadata": {},
   "outputs": [],
   "source": [
    "class Example(Scene):\n",
    "  def construct(self):\n",
    "    s = Square()\n",
    "    s.width = 1\n",
    "    s.stroke_color = ORANGE\n",
    "    self.add(s)\n",
    "%manim $_RIm"
   ]
  },
  {
   "cell_type": "code",
   "execution_count": null,
   "id": "c8b5e7a7",
   "metadata": {},
   "outputs": [],
   "source": [
    "class TexDefinition(Tex):\n",
    "  def __init__(self, tex_string, **kwargs):\n",
    "    super().__init__(f\"{{\\\\bf Definition}}: {tex_string}\", **kwargs)\n",
    "\n",
    "class Example(Scene):\n",
    "  def construct(self):\n",
    "    d = TexDefinition(\"Derivative\")\n",
    "    self.add(d)\n",
    "%manim $_RIm"
   ]
  },
  {
   "cell_type": "code",
   "execution_count": null,
   "id": "f8fa3300",
   "metadata": {},
   "outputs": [],
   "source": [
    "class VGroupArrangeRight(VGroup):\n",
    "  def __init__(self, *args):\n",
    "    super().__init__(*args)\n",
    "    self.arrange(RIGHT)\n",
    "\n",
    "class Example(Scene):\n",
    "  def construct(self):\n",
    "    grp = VGroupArrangeRight(Square(), Tex(\"A\"), Triangle(), Circle())\n",
    "    self.add(grp)\n",
    "%manim $_RIm"
   ]
  },
  {
   "cell_type": "code",
   "execution_count": null,
   "id": "b5b89665",
   "metadata": {},
   "outputs": [],
   "source": [
    "class TexBox(VGroup):\n",
    "  def __init__(self, *tex_strings, buff=0.3, **kwargs):\n",
    "    tex = Tex(*tex_strings, **kwargs)\n",
    "    r = Rectangle(\n",
    "      width=tex.width+buff,\n",
    "      height=tex.height+buff\n",
    "    )\n",
    "    super().__init__(tex, r)\n",
    "\n",
    "class Example(Scene):\n",
    "  def construct(self):\n",
    "    tb = TexBox(\"This is some text\")\n",
    "    self.add(tb)\n",
    "%manim $_RIm"
   ]
  },
  {
   "cell_type": "code",
   "execution_count": null,
   "id": "e463da15",
   "metadata": {},
   "outputs": [],
   "source": [
    "class TexBox(VGroup):\n",
    "  def __init__(self, *tex_strings, buff=0.3, rec_kwargs={}, **kwargs):\n",
    "    tex = Tex(*tex_strings, **kwargs)\n",
    "    r = Rectangle(\n",
    "      width=tex.width+buff,\n",
    "      height=tex.height+buff,\n",
    "      **rec_kwargs\n",
    "    )\n",
    "    super().__init__(tex, r)\n",
    "\n",
    "class Example(Scene):\n",
    "  def construct(self):\n",
    "    tb = TexBox(\"This is some text\", color=BLUE, rec_kwargs={\"color\": YELLOW})\n",
    "    # tb = TexBox(\"This is some text\", color=RED, rec_kwargs=dict(color=GREEN))\n",
    "    self.add(tb)\n",
    "%manim $_RIm"
   ]
  },
  {
   "cell_type": "markdown",
   "id": "2ca4dfbb",
   "metadata": {},
   "source": [
    "# Methods"
   ]
  },
  {
   "cell_type": "code",
   "execution_count": null,
   "id": "03be17e0",
   "metadata": {},
   "outputs": [],
   "source": [
    "class MySquare(Square):\n",
    "  def set_red(self):\n",
    "    self.set_color(RED)\n",
    "\n",
    "class Example(Scene):\n",
    "  def construct(self):\n",
    "    s = MySquare()\n",
    "    s.set_red()\n",
    "    self.add(s)\n",
    "%manim $_RIm"
   ]
  },
  {
   "cell_type": "code",
   "execution_count": null,
   "id": "49ef4f00",
   "metadata": {},
   "outputs": [],
   "source": [
    "class MySquare(Square):\n",
    "  def set_color(self, color, stroke_width=10):\n",
    "    super().set_color(color)\n",
    "    self.set_stroke(width=stroke_width)\n",
    "\n",
    "class Example(Scene):\n",
    "  def construct(self):\n",
    "    s = MySquare()\n",
    "    s.set_color(BLUE)\n",
    "    self.add(s)\n",
    "%manim $_RIm"
   ]
  },
  {
   "cell_type": "markdown",
   "id": "c9bf7fac",
   "metadata": {},
   "source": [
    "# Class variables"
   ]
  },
  {
   "cell_type": "code",
   "execution_count": null,
   "id": "23fe7a2b",
   "metadata": {},
   "outputs": [],
   "source": [
    "class SomeObject:\n",
    "  class_variable = \"I'm class variable\"\n",
    "  def __init__(self, value):\n",
    "    self.value = value\n",
    "\n",
    "obj1 = SomeObject(1)\n",
    "obj2 = SomeObject(2)\n",
    "\n",
    "print(f\"{obj1.value=}\")\n",
    "print(f\"{obj2.value=}\")\n",
    "print(\"----------------\")\n",
    "# SomeObject.class_variable = \"Changed class variable\"\n",
    "print(f\"{obj1.class_variable=}\")\n",
    "print(f\"{obj2.class_variable=}\")"
   ]
  },
  {
   "cell_type": "code",
   "execution_count": null,
   "id": "eaba16bb",
   "metadata": {},
   "outputs": [],
   "source": [
    "class MyStar(Star):\n",
    "  default_config = dict(\n",
    "    stroke_color=RED,\n",
    "    stroke_width=10,\n",
    "    fill_opacity=0.5,\n",
    "    fill_color=BLUE\n",
    "  )\n",
    "  def __init__(self, n=5, **kwargs):\n",
    "    merged_kwargs = merge_dicts_recursively(self.default_config, kwargs)\n",
    "    print(f\"{kwargs=}\")\n",
    "    print(f\"{merged_kwargs=}\")\n",
    "    super().__init__(n, **merged_kwargs)\n",
    "    # if \"color\" in merged_kwargs:\n",
    "    #   self.set_color(merged_kwargs[\"color\"])\n",
    "\n",
    "class Example(Scene):\n",
    "  def construct(self):\n",
    "    s = MyStar()\n",
    "    self.add(s)\n",
    "%manim $_RIm"
   ]
  }
 ],
 "metadata": {
  "kernelspec": {
   "display_name": "mce19",
   "language": "python",
   "name": "python3"
  },
  "language_info": {
   "codemirror_mode": {
    "name": "ipython",
    "version": 3
   },
   "file_extension": ".py",
   "mimetype": "text/x-python",
   "name": "python",
   "nbconvert_exporter": "python",
   "pygments_lexer": "ipython3",
   "version": "3.12.9"
  }
 },
 "nbformat": 4,
 "nbformat_minor": 5
}
