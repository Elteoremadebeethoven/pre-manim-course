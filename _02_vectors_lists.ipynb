{
 "cells": [
  {
   "cell_type": "code",
   "execution_count": null,
   "id": "b006be4a",
   "metadata": {},
   "outputs": [],
   "source": [
    "from manim import *\n",
    "config.media_embed = True\n",
    "config.media_width = \"100%\"\n",
    "_RI = \"-v WARNING -s --progress_bar None --disable_caching Example\"\n",
    "_RIm = \"-r1440,230 -v WARNING -s --progress_bar None --disable_caching Example\""
   ]
  },
  {
   "cell_type": "code",
   "execution_count": null,
   "id": "8bdc294d",
   "metadata": {},
   "outputs": [],
   "source": [
    "class Example(Scene):\n",
    "  def construct(self):\n",
    "    nump = NumberPlane()\n",
    "    self.add(nump)\n",
    "%manim $_RI"
   ]
  },
  {
   "cell_type": "code",
   "execution_count": null,
   "id": "10d3c754",
   "metadata": {},
   "outputs": [],
   "source": [
    "class Example(Scene):\n",
    "  def construct(self):\n",
    "    d = Dot([1, 1, 0])\n",
    "    self.add(NumberPlane(), d)\n",
    "%manim $_RI"
   ]
  },
  {
   "cell_type": "code",
   "execution_count": null,
   "id": "23abeb9c",
   "metadata": {},
   "outputs": [],
   "source": [
    "class Example(Scene):\n",
    "  def construct(self):\n",
    "    d = Dot().move_to([2, 2, 0])\n",
    "    self.add(NumberPlane(), d)\n",
    "%manim $_RI"
   ]
  },
  {
   "cell_type": "code",
   "execution_count": null,
   "id": "b1ecaf75",
   "metadata": {},
   "outputs": [],
   "source": [
    "class Example(Scene):\n",
    "  def construct(self):\n",
    "    x, y, z = 3, -2, 0\n",
    "    d = Dot([x, y, z])\n",
    "    self.add(NumberPlane(), d)\n",
    "%manim $_RI"
   ]
  },
  {
   "cell_type": "code",
   "execution_count": null,
   "id": "25b3f589",
   "metadata": {},
   "outputs": [],
   "source": [
    "class Example(Scene):\n",
    "  def construct(self):\n",
    "    grp = VGroup(Square(), Triangle(), Circle())\n",
    "    # grp.arrange(RIGHT)\n",
    "    self.add(grp)\n",
    "%manim $_RI"
   ]
  },
  {
   "cell_type": "code",
   "execution_count": null,
   "id": "58cb542d",
   "metadata": {},
   "outputs": [],
   "source": [
    "class Example(Scene):\n",
    "  def construct(self):\n",
    "    l = [1, 3.1416, \"Alex\", True]\n",
    "    grp = VGroup()\n",
    "    for e in l:\n",
    "      grp.add( Tex(f\"{e}\") )\n",
    "    grp.arrange(RIGHT)\n",
    "    self.add(grp)\n",
    "%manim $_RIm"
   ]
  },
  {
   "cell_type": "code",
   "execution_count": null,
   "id": "4965068e",
   "metadata": {},
   "outputs": [],
   "source": [
    "class Example(Scene):\n",
    "  def construct(self):\n",
    "    l = [1, 3.1416, \"Alex\", True]\n",
    "    l[0] = 1.618\n",
    "    grp = VGroup()\n",
    "    for e in l:\n",
    "      grp.add( Tex(f\"{e}\") )\n",
    "    grp.arrange(RIGHT)\n",
    "    self.add(grp)\n",
    "%manim $_RIm"
   ]
  },
  {
   "cell_type": "code",
   "execution_count": null,
   "id": "c6cf7290",
   "metadata": {},
   "outputs": [],
   "source": [
    "class Example(Scene):\n",
    "  def construct(self):\n",
    "    l = [1, 3.1416, \"Alex\", True]\n",
    "    grp = VGroup()\n",
    "    for i,e in enumerate(l):\n",
    "      grp.add( Tex(f\"l[{i}] = {e}\") )\n",
    "    grp.arrange(DOWN)\n",
    "    # grp.arrange(DOWN, aligned_edge=LEFT)\n",
    "    self.add(grp)\n",
    "%manim $_RI"
   ]
  },
  {
   "cell_type": "code",
   "execution_count": null,
   "id": "d7a974b0",
   "metadata": {},
   "outputs": [],
   "source": [
    "class Example(Scene):\n",
    "  def construct(self):\n",
    "    grp = VGroup()\n",
    "    for i in range(2,12):\n",
    "      grp.add( Tex(f\"{i}\") )\n",
    "    self.add(grp.arrange(RIGHT))\n",
    "%manim $_RIm"
   ]
  },
  {
   "cell_type": "code",
   "execution_count": null,
   "id": "87c95553",
   "metadata": {},
   "outputs": [],
   "source": [
    "class Example(Scene):\n",
    "  def construct(self):\n",
    "    grp = VGroup()\n",
    "    for i in np.arange(0, 1, 0.1):\n",
    "      grp.add( Tex(f\"{i}\") )\n",
    "    self.add(grp.arrange(RIGHT))\n",
    "%manim $_RIm"
   ]
  },
  {
   "cell_type": "code",
   "execution_count": null,
   "id": "3283048d",
   "metadata": {},
   "outputs": [],
   "source": [
    "class Example(Scene):\n",
    "  def construct(self):\n",
    "    grp = VGroup()\n",
    "    for i in np.arange(0, 1, 0.1):\n",
    "      grp.add( Tex(f\"{i:.1f}\") )\n",
    "    self.add(grp.arrange(RIGHT))\n",
    "%manim $_RIm"
   ]
  },
  {
   "cell_type": "code",
   "execution_count": null,
   "id": "c3bf49a9",
   "metadata": {},
   "outputs": [],
   "source": [
    "class Example(Scene):\n",
    "  def construct(self):\n",
    "    grp = VGroup()\n",
    "    for i in np.arange(0, 1, 0.2):\n",
    "      grp.add( Tex(f\"{i:.1f}\") )\n",
    "    self.add(grp.arrange(RIGHT))\n",
    "%manim $_RIm"
   ]
  },
  {
   "cell_type": "code",
   "execution_count": null,
   "id": "12bc8134",
   "metadata": {},
   "outputs": [],
   "source": [
    "class Example(Scene):\n",
    "  def construct(self):\n",
    "    l = [1, 3.1416, \"Alex\", True]\n",
    "    self.add(Tex(f\"{l[0]}\"))\n",
    "%manim $_RIm"
   ]
  },
  {
   "cell_type": "code",
   "execution_count": null,
   "id": "d76548f8",
   "metadata": {},
   "outputs": [],
   "source": [
    "print(range(10))"
   ]
  },
  {
   "cell_type": "code",
   "execution_count": null,
   "id": "beb92ee2",
   "metadata": {},
   "outputs": [],
   "source": [
    "print(list(range(10)))"
   ]
  },
  {
   "cell_type": "code",
   "execution_count": null,
   "id": "35b84ccf",
   "metadata": {},
   "outputs": [],
   "source": [
    "print([*range(10)])"
   ]
  },
  {
   "cell_type": "code",
   "execution_count": null,
   "id": "6e280c18",
   "metadata": {},
   "outputs": [],
   "source": [
    "class Example(Scene):\n",
    "  def construct(self):\n",
    "    l = [*range(10)]\n",
    "    grp = VGroup()\n",
    "    for i in l[3:9]:\n",
    "      grp.add( Tex(f\"{i}\") )\n",
    "    self.add(grp.arrange(RIGHT))\n",
    "%manim $_RIm"
   ]
  },
  {
   "cell_type": "code",
   "execution_count": null,
   "id": "ff6a1e3f",
   "metadata": {},
   "outputs": [],
   "source": []
  }
 ],
 "metadata": {
  "kernelspec": {
   "display_name": "mce19",
   "language": "python",
   "name": "python3"
  },
  "language_info": {
   "codemirror_mode": {
    "name": "ipython",
    "version": 3
   },
   "file_extension": ".py",
   "mimetype": "text/x-python",
   "name": "python",
   "nbconvert_exporter": "python",
   "pygments_lexer": "ipython3",
   "version": "3.12.9"
  }
 },
 "nbformat": 4,
 "nbformat_minor": 5
}
